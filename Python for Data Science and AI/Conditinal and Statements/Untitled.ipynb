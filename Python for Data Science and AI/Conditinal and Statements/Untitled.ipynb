{
 "cells": [
  {
   "cell_type": "markdown",
   "id": "976ee39c",
   "metadata": {},
   "source": [
    "## conditional Statements "
   ]
  },
  {
   "cell_type": "code",
   "execution_count": 19,
   "id": "c700ab88",
   "metadata": {},
   "outputs": [],
   "source": [
    "## How to print varaibel String"
   ]
  },
  {
   "cell_type": "code",
   "execution_count": 12,
   "id": "0b7798a2",
   "metadata": {},
   "outputs": [],
   "source": [
    "# variable\n",
    "name = 'Manon'\n",
    "last_name = 'Ya'\n"
   ]
  },
  {
   "cell_type": "code",
   "execution_count": 16,
   "id": "c6332d4f",
   "metadata": {
    "scrolled": false
   },
   "outputs": [
    {
     "name": "stdout",
     "output_type": "stream",
     "text": [
      "hello Manon Ya how are you Manon?\n"
     ]
    }
   ],
   "source": [
    "print('hello %s %s how are you %s?'%(name, last_name, name))"
   ]
  },
  {
   "cell_type": "markdown",
   "id": "52765949",
   "metadata": {},
   "source": [
    "## with format function\n",
    "```python\n",
    "txt1 = \"My name is {fname}, I'm {age}\".format(fname = \"John\", age = 36)\n",
    "txt2 = \"My name is {0}, I'm {1}\".format(\"John\",36)\n",
    "txt3 = \"My name is {}, I'm {}\".format(\"John\",36)\n",
    "```"
   ]
  },
  {
   "cell_type": "code",
   "execution_count": 27,
   "id": "6a10ddeb",
   "metadata": {},
   "outputs": [
    {
     "name": "stdout",
     "output_type": "stream",
     "text": [
      "My name is John, I'm 36\n",
      "My name is Manon, I'm 36\n",
      "My name is Sovann, I'm 36\n"
     ]
    }
   ],
   "source": [
    "txt1 = \"My name is {fname}, I'm {age}\".format(fname = \"John\", age = 36)\n",
    "txt2 = \"My name is {0}, I'm {1}\".format(\"Manon\",36)\n",
    "txt3 = \"My name is {}, I'm {}\".format(\"Sovann\",36)\n",
    "print(txt1)\n",
    "print(txt2)\n",
    "print(txt3)"
   ]
  },
  {
   "cell_type": "code",
   "execution_count": 20,
   "id": "8aa84523",
   "metadata": {},
   "outputs": [],
   "source": [
    "var = 10 \n",
    "name = 'manon'\n",
    "a = 100"
   ]
  },
  {
   "cell_type": "code",
   "execution_count": 21,
   "id": "506db508",
   "metadata": {},
   "outputs": [
    {
     "name": "stdout",
     "output_type": "stream",
     "text": [
      "100\n"
     ]
    }
   ],
   "source": [
    "print(a)"
   ]
  },
  {
   "cell_type": "code",
   "execution_count": 23,
   "id": "2b6ecde1",
   "metadata": {},
   "outputs": [
    {
     "name": "stdout",
     "output_type": "stream",
     "text": [
      "value of varaible is 10\n"
     ]
    }
   ],
   "source": [
    "print('value of varaible is {b}'.format(b=var))"
   ]
  },
  {
   "cell_type": "code",
   "execution_count": 18,
   "id": "fa4523b8",
   "metadata": {},
   "outputs": [
    {
     "name": "stdout",
     "output_type": "stream",
     "text": [
      "hello Manon how are you? Ya\n"
     ]
    }
   ],
   "source": [
    "print('hello',name, 'how are you?', last_name)"
   ]
  },
  {
   "cell_type": "code",
   "execution_count": null,
   "id": "8b40e67b",
   "metadata": {},
   "outputs": [],
   "source": []
  },
  {
   "cell_type": "code",
   "execution_count": 1,
   "id": "47b5f156",
   "metadata": {},
   "outputs": [
    {
     "name": "stdout",
     "output_type": "stream",
     "text": [
      "Please write the number that u want:1\n",
      "Number is positive.\n"
     ]
    }
   ],
   "source": [
    "number = int(input(\"Please write the number that u want:\"))\n",
    "if number > 0:\n",
    "   print('Number is positive.')\n",
    "elif number == 0:\n",
    "   print('Number is zero.')\n",
    "else:\n",
    "   print('Number is negative.')"
   ]
  },
  {
   "cell_type": "code",
   "execution_count": null,
   "id": "8bb7f8e1",
   "metadata": {},
   "outputs": [],
   "source": []
  },
  {
   "cell_type": "code",
   "execution_count": null,
   "id": "d40b7456",
   "metadata": {},
   "outputs": [],
   "source": []
  },
  {
   "cell_type": "code",
   "execution_count": null,
   "id": "b25f4b33",
   "metadata": {},
   "outputs": [],
   "source": []
  },
  {
   "cell_type": "code",
   "execution_count": null,
   "id": "d40ea46f",
   "metadata": {},
   "outputs": [],
   "source": []
  },
  {
   "cell_type": "code",
   "execution_count": null,
   "id": "be12b9e3",
   "metadata": {},
   "outputs": [],
   "source": []
  },
  {
   "cell_type": "code",
   "execution_count": null,
   "id": "e472f097",
   "metadata": {},
   "outputs": [],
   "source": []
  },
  {
   "cell_type": "code",
   "execution_count": null,
   "id": "80680349",
   "metadata": {},
   "outputs": [],
   "source": []
  },
  {
   "cell_type": "code",
   "execution_count": null,
   "id": "a18a48f9",
   "metadata": {},
   "outputs": [],
   "source": []
  },
  {
   "cell_type": "code",
   "execution_count": null,
   "id": "3d5930a3",
   "metadata": {},
   "outputs": [],
   "source": []
  },
  {
   "cell_type": "code",
   "execution_count": null,
   "id": "475b663c",
   "metadata": {},
   "outputs": [],
   "source": []
  },
  {
   "cell_type": "code",
   "execution_count": null,
   "id": "871e2b70",
   "metadata": {},
   "outputs": [],
   "source": []
  },
  {
   "cell_type": "code",
   "execution_count": null,
   "id": "4c2d9f85",
   "metadata": {},
   "outputs": [],
   "source": []
  },
  {
   "cell_type": "code",
   "execution_count": null,
   "id": "2684cc4b",
   "metadata": {},
   "outputs": [],
   "source": []
  },
  {
   "cell_type": "code",
   "execution_count": null,
   "id": "02be0abb",
   "metadata": {},
   "outputs": [],
   "source": []
  },
  {
   "cell_type": "code",
   "execution_count": null,
   "id": "8ae99c96",
   "metadata": {},
   "outputs": [],
   "source": []
  },
  {
   "cell_type": "code",
   "execution_count": null,
   "id": "80d5f754",
   "metadata": {},
   "outputs": [],
   "source": []
  },
  {
   "cell_type": "code",
   "execution_count": null,
   "id": "b63c351c",
   "metadata": {},
   "outputs": [],
   "source": []
  },
  {
   "cell_type": "code",
   "execution_count": null,
   "id": "52da3b3b",
   "metadata": {},
   "outputs": [],
   "source": []
  },
  {
   "cell_type": "code",
   "execution_count": null,
   "id": "46b496d3",
   "metadata": {},
   "outputs": [],
   "source": []
  },
  {
   "cell_type": "code",
   "execution_count": null,
   "id": "fedbc67b",
   "metadata": {},
   "outputs": [],
   "source": []
  },
  {
   "cell_type": "code",
   "execution_count": null,
   "id": "6c4d4246",
   "metadata": {},
   "outputs": [],
   "source": []
  },
  {
   "cell_type": "code",
   "execution_count": null,
   "id": "cc54d726",
   "metadata": {},
   "outputs": [],
   "source": []
  },
  {
   "cell_type": "code",
   "execution_count": null,
   "id": "cd155208",
   "metadata": {},
   "outputs": [],
   "source": []
  },
  {
   "cell_type": "code",
   "execution_count": null,
   "id": "3d7f832e",
   "metadata": {},
   "outputs": [],
   "source": []
  },
  {
   "cell_type": "code",
   "execution_count": null,
   "id": "6400b879",
   "metadata": {},
   "outputs": [],
   "source": []
  },
  {
   "cell_type": "code",
   "execution_count": null,
   "id": "d8f144bd",
   "metadata": {},
   "outputs": [],
   "source": []
  },
  {
   "cell_type": "code",
   "execution_count": 3,
   "id": "d0e264b7",
   "metadata": {},
   "outputs": [
    {
     "name": "stdout",
     "output_type": "stream",
     "text": [
      "Method   | Frequency\n",
      "--------------------\n",
      "N        | 9\n",
      "T        | 13\n",
      "I        | 11\n",
      "R        | 13\n",
      "\n",
      "Interpretation:\n",
      "Total respondents: 46\n",
      "Newspaper: 9 individuals\n",
      "Television: 13 individuals\n",
      "Radio: 13 individuals\n",
      "Internet: 11 individuals\n"
     ]
    }
   ],
   "source": [
    "from collections import Counter\n",
    "\n",
    "# List of news consumption methods\n",
    "data = [\n",
    "    'N', 'N', 'T', 'T', 'T', 'I', 'R', 'R', 'I', 'T',\n",
    "    'I', 'N', 'R', 'R', 'I', 'N', 'N', 'I', 'R', 'R',\n",
    "    'I', 'R', 'T', 'T', 'T', 'T', 'N', 'R', 'R', 'I',\n",
    "    'R', 'T', 'I', 'I', 'T', 'I', 'N', 'T', 'T', 'I',\n",
    "    'R', 'N', 'R', 'N', 'R', 'T'\n",
    "]\n",
    "\n",
    "# Count the frequency of each method using Counter\n",
    "frequency_counts = Counter(data)\n",
    "\n",
    "# Print the categorical frequency distribution\n",
    "print(\"Method   | Frequency\")\n",
    "print(\"--------------------\")\n",
    "for method, frequency in frequency_counts.items():\n",
    "    print(f\"{method.ljust(9)}| {frequency}\")\n",
    "\n",
    "# Calculate the total number of respondents\n",
    "total_respondents = len(data)\n",
    "\n",
    "# Interpretation\n",
    "print(\"\\nInterpretation:\")\n",
    "print(f\"Total respondents: {total_respondents}\")\n",
    "print(f\"Newspaper: {frequency_counts['N']} individuals\")\n",
    "print(f\"Television: {frequency_counts['T']} individuals\")\n",
    "print(f\"Radio: {frequency_counts['R']} individuals\")\n",
    "print(f\"Internet: {frequency_counts['I']} individuals\")\n"
   ]
  },
  {
   "cell_type": "code",
   "execution_count": 2,
   "id": "4fd5fb96",
   "metadata": {},
   "outputs": [
    {
     "name": "stdout",
     "output_type": "stream",
     "text": [
      "T    13\n",
      "R    13\n",
      "I    11\n",
      "N     9\n",
      "dtype: int64\n",
      "\n",
      "Interpretation:\n",
      "T: 13 individuals (28.26%)\n",
      "R: 13 individuals (28.26%)\n",
      "I: 11 individuals (23.91%)\n",
      "N: 9 individuals (19.57%)\n"
     ]
    }
   ],
   "source": [
    "import pandas as pd\n",
    "\n",
    "# List of news consumption methods\n",
    "data = [\n",
    "    'N', 'N', 'T', 'T', 'T', 'I', 'R', 'R', 'I', 'T',\n",
    "    'I', 'N', 'R', 'R', 'I', 'N', 'N', 'I', 'R', 'R',\n",
    "    'I', 'R', 'T', 'T', 'T', 'T', 'N', 'R', 'R', 'I',\n",
    "    'R', 'T', 'I', 'I', 'T', 'I', 'N', 'T', 'T', 'I',\n",
    "    'R', 'N', 'R', 'N', 'R', 'T'\n",
    "]\n",
    "\n",
    "# Create a pandas Series from the data\n",
    "news_series = pd.Series(data)\n",
    "\n",
    "# Calculate the value counts\n",
    "frequency_counts = news_series.value_counts()\n",
    "\n",
    "# Print the categorical frequency distribution\n",
    "print(frequency_counts)\n",
    "\n",
    "# Interpretation\n",
    "print(\"\\nInterpretation:\")\n",
    "total_respondents = len(news_series)\n",
    "for method, frequency in frequency_counts.items():\n",
    "    print(f\"{method}: {frequency} individuals ({(frequency / total_respondents) * 100:.2f}%)\")\n"
   ]
  },
  {
   "cell_type": "code",
   "execution_count": null,
   "id": "eb13760b",
   "metadata": {},
   "outputs": [],
   "source": []
  }
 ],
 "metadata": {
  "kernelspec": {
   "display_name": "Python 3 (ipykernel)",
   "language": "python",
   "name": "python3"
  },
  "language_info": {
   "codemirror_mode": {
    "name": "ipython",
    "version": 3
   },
   "file_extension": ".py",
   "mimetype": "text/x-python",
   "name": "python",
   "nbconvert_exporter": "python",
   "pygments_lexer": "ipython3",
   "version": "3.10.9"
  }
 },
 "nbformat": 4,
 "nbformat_minor": 5
}
